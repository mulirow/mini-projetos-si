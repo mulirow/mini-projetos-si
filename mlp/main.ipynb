{
  "cells": [
    {
      "cell_type": "code",
      "execution_count": null,
      "metadata": {
        "id": "71NPfBMej49O"
      },
      "outputs": [],
      "source": [
        "import numpy as np\n",
        "import pandas as pd\n",
        "import matplotlib.pyplot as plt\n",
        "from sklearn.neural_network import MLPClassifier\n",
        "from sklearn.model_selection import train_test_split\n",
        "from sklearn.metrics import accuracy_score\n",
        "from sklearn.metrics import confusion_matrix\n",
        "from sklearn.metrics import ConfusionMatrixDisplay\n",
        "\n",
        "plt.style.use('default')"
      ]
    },
    {
      "cell_type": "code",
      "execution_count": null,
      "metadata": {
        "id": "wDRInUu3j49S"
      },
      "outputs": [],
      "source": [
        "# Source data was initially adjusted to remove unnecessary comments and rename column names\n",
        "df = pd.read_csv('input/Dataset_spine.csv', sep=',')\n",
        "\n",
        "# Remove, if any, empty values from the dataset\n",
        "df = df.dropna()\n",
        "\n",
        "# Map classification attribute from string to binary\n",
        "df[\"Class_att\"] = df[\"Class_att\"].map({\"Normal\": 0, \"Abnormal\": 1})"
      ]
    },
    {
      "cell_type": "code",
      "execution_count": null,
      "metadata": {
        "id": "m0MuQ7s_j49T"
      },
      "outputs": [],
      "source": [
        "# Separate data into training and validation\n",
        "X = df.drop([\"Class_att\"], axis=1)\n",
        "y = df[\"Class_att\"]\n",
        "\n",
        "X_train, X_test, y_train, y_test = train_test_split(X, y, test_size=0.25, random_state=69)"
      ]
    },
    {
      "cell_type": "code",
      "execution_count": null,
      "metadata": {
        "id": "mV7OQc_Wj49U"
      },
      "outputs": [],
      "source": [
        "# MLP training\n",
        "mlp = MLPClassifier(hidden_layer_sizes=(10,), activation='logistic', learning_rate='constant', solver='adam', max_iter=10000, tol=1e-4)"
      ]
    },
    {
      "cell_type": "code",
      "execution_count": null,
      "metadata": {
        "colab": {
          "base_uri": "https://localhost:8080/"
        },
        "id": "oX8NBTIuj49U",
        "outputId": "04d0fdac-959f-4691-ea21-8bc4808b45fe"
      },
      "outputs": [],
      "source": [
        "mlp.fit(X_train, y_train)\n",
        "\n",
        "print(\"Training set score: {:.4f}\".format(mlp.score(X_train, y_train)))\n",
        "print(\"Test set score: {:.4f}\".format(mlp.score(X_test, y_test)))"
      ]
    },
    {
      "cell_type": "code",
      "execution_count": null,
      "metadata": {
        "colab": {
          "base_uri": "https://localhost:8080/",
          "height": 449
        },
        "id": "vX3NFMWCj49V",
        "outputId": "40521954-6c9d-47b0-9c18-5c07b5a6c02e"
      },
      "outputs": [],
      "source": [
        "# Confusion matrix\n",
        "y_pred = mlp.predict(X_test)\n",
        "cm = confusion_matrix(y_test, y_pred)\n",
        "disp = ConfusionMatrixDisplay(cm)\n",
        "disp.plot()\n",
        "plt.show()"
      ]
    },
    {
      "cell_type": "code",
      "execution_count": null,
      "metadata": {
        "id": "hKJv-vE-lR0K"
      },
      "outputs": [],
      "source": [
        "# MLP training\n",
        "mlp2 = MLPClassifier(hidden_layer_sizes=(10, 10, 10,), activation='logistic', learning_rate='constant', solver='adam', max_iter=10000, tol=1e-4)"
      ]
    },
    {
      "cell_type": "code",
      "execution_count": null,
      "metadata": {
        "colab": {
          "base_uri": "https://localhost:8080/"
        },
        "id": "FI_SSeJllR0K",
        "outputId": "2e3d900e-8d1f-44ce-a09d-d7616e1c6416"
      },
      "outputs": [],
      "source": [
        "mlp2.fit(X_train, y_train)\n",
        "\n",
        "print(\"Training set score: {:.4f}\".format(mlp2.score(X_train, y_train)))\n",
        "print(\"Test set score: {:.4f}\".format(mlp2.score(X_test, y_test)))"
      ]
    },
    {
      "cell_type": "code",
      "execution_count": null,
      "metadata": {
        "colab": {
          "base_uri": "https://localhost:8080/",
          "height": 455
        },
        "id": "DIjBOjMvlR0L",
        "outputId": "bf3a0fe5-8694-4f19-9c08-e478dfd84d8c"
      },
      "outputs": [],
      "source": [
        "# Confusion matrix\n",
        "y_pred = mlp2.predict(X_test)\n",
        "cm = confusion_matrix(y_test, y_pred)\n",
        "disp = ConfusionMatrixDisplay(cm)\n",
        "disp.plot()\n",
        "plt.show()"
      ]
    },
    {
      "cell_type": "code",
      "execution_count": null,
      "metadata": {
        "id": "avfAkPdImvyH"
      },
      "outputs": [],
      "source": [
        "# MLP training\n",
        "mlp3 = MLPClassifier(hidden_layer_sizes=(100, 100, 100,), activation='logistic', learning_rate='constant', solver='adam', max_iter=10000, tol=1e-4)"
      ]
    },
    {
      "cell_type": "code",
      "execution_count": null,
      "metadata": {
        "colab": {
          "base_uri": "https://localhost:8080/"
        },
        "id": "sRdnQNk6mvyU",
        "outputId": "35d862a9-97ac-46e4-e1a3-ed7ae947038c"
      },
      "outputs": [],
      "source": [
        "mlp3.fit(X_train, y_train)\n",
        "\n",
        "print(\"Training set score: {:.4f}\".format(mlp3.score(X_train, y_train)))\n",
        "print(\"Test set score: {:.4f}\".format(mlp3.score(X_test, y_test)))"
      ]
    },
    {
      "cell_type": "code",
      "execution_count": null,
      "metadata": {
        "colab": {
          "base_uri": "https://localhost:8080/",
          "height": 455
        },
        "id": "oTYrPPbBmvyV",
        "outputId": "67eed761-7afd-42e8-974d-195eda10c985"
      },
      "outputs": [],
      "source": [
        "# Confusion matrix\n",
        "y_pred = mlp2.predict(X_test)\n",
        "cm = confusion_matrix(y_test, y_pred)\n",
        "disp = ConfusionMatrixDisplay(cm)\n",
        "disp.plot()\n",
        "plt.show()"
      ]
    },
    {
      "cell_type": "code",
      "execution_count": null,
      "metadata": {
        "id": "k8pWUIQUnPQd"
      },
      "outputs": [],
      "source": [
        "# MLP training\n",
        "mlp4 = MLPClassifier(hidden_layer_sizes=(100, 100, 100,), activation='logistic', learning_rate='constant', solver='lbfgs', max_iter=10000, tol=1e-4)"
      ]
    },
    {
      "cell_type": "code",
      "execution_count": null,
      "metadata": {
        "colab": {
          "base_uri": "https://localhost:8080/"
        },
        "id": "yUdrKxubnPQt",
        "outputId": "b4c633ba-e908-4183-8ab9-6e02272b4ba5"
      },
      "outputs": [],
      "source": [
        "mlp4.fit(X_train, y_train)\n",
        "\n",
        "print(\"Training set score: {:.4f}\".format(mlp4.score(X_train, y_train)))\n",
        "print(\"Test set score: {:.4f}\".format(mlp4.score(X_test, y_test)))"
      ]
    },
    {
      "cell_type": "code",
      "execution_count": null,
      "metadata": {
        "colab": {
          "base_uri": "https://localhost:8080/",
          "height": 449
        },
        "id": "r1q130s1nPQu",
        "outputId": "62b296d1-dc11-4995-be6d-af75f5ef8f8c"
      },
      "outputs": [],
      "source": [
        "# Confusion matrix\n",
        "y_pred = mlp4.predict(X_test)\n",
        "cm = confusion_matrix(y_test, y_pred)\n",
        "disp = ConfusionMatrixDisplay(cm)\n",
        "disp.plot()\n",
        "plt.show()"
      ]
    },
    {
      "cell_type": "code",
      "execution_count": null,
      "metadata": {
        "id": "kxqtkVF2nsgi"
      },
      "outputs": [],
      "source": [
        "# MLP training\n",
        "mlp5 = MLPClassifier(hidden_layer_sizes=(100, 100, 100,), activation='logistic', learning_rate='adaptive', solver='adam', max_iter=10000, tol=1e-4)"
      ]
    },
    {
      "cell_type": "code",
      "execution_count": null,
      "metadata": {
        "colab": {
          "base_uri": "https://localhost:8080/"
        },
        "id": "LMsCS930nsgw",
        "outputId": "8cf98182-6b98-4c50-f421-e38e819096e3"
      },
      "outputs": [],
      "source": [
        "mlp5.fit(X_train, y_train)\n",
        "\n",
        "print(\"Training set score: {:.4f}\".format(mlp5.score(X_train, y_train)))\n",
        "print(\"Test set score: {:.4f}\".format(mlp5.score(X_test, y_test)))"
      ]
    },
    {
      "cell_type": "code",
      "execution_count": null,
      "metadata": {
        "colab": {
          "base_uri": "https://localhost:8080/",
          "height": 449
        },
        "id": "IQ5IICSBnsgw",
        "outputId": "b33c241e-e192-4148-c996-f999b91d4f5a"
      },
      "outputs": [],
      "source": [
        "# Confusion matrix\n",
        "y_pred = mlp5.predict(X_test)\n",
        "cm = confusion_matrix(y_test, y_pred)\n",
        "disp = ConfusionMatrixDisplay(cm)\n",
        "disp.plot()\n",
        "plt.show()"
      ]
    },
    {
      "cell_type": "code",
      "execution_count": null,
      "metadata": {
        "id": "9XyNmhTbohg4"
      },
      "outputs": [],
      "source": [
        "# MLP training\n",
        "mlp6 = MLPClassifier(hidden_layer_sizes=(100, 100, 100, 100,), activation='logistic', learning_rate='constant', solver='adam', max_iter=10000, tol=1e-4)"
      ]
    },
    {
      "cell_type": "code",
      "execution_count": null,
      "metadata": {
        "colab": {
          "base_uri": "https://localhost:8080/"
        },
        "id": "DbLqM2xPohg6",
        "outputId": "4b279235-0250-410e-cbac-f56ddcb856bb"
      },
      "outputs": [],
      "source": [
        "mlp6.fit(X_train, y_train)\n",
        "\n",
        "print(\"Training set score: {:.4f}\".format(mlp6.score(X_train, y_train)))\n",
        "print(\"Test set score: {:.4f}\".format(mlp6.score(X_test, y_test)))"
      ]
    },
    {
      "cell_type": "code",
      "execution_count": null,
      "metadata": {
        "colab": {
          "base_uri": "https://localhost:8080/",
          "height": 449
        },
        "id": "F0CZU0MVohg6",
        "outputId": "194d00d7-f530-48f6-d002-cca8004e66f2"
      },
      "outputs": [],
      "source": [
        "# Confusion matrix\n",
        "y_pred = mlp6.predict(X_test)\n",
        "cm = confusion_matrix(y_test, y_pred)\n",
        "disp = ConfusionMatrixDisplay(cm)\n",
        "disp.plot()\n",
        "plt.show()"
      ]
    },
    {
      "cell_type": "code",
      "execution_count": null,
      "metadata": {
        "id": "UGJkRizJj49V"
      },
      "outputs": [],
      "source": [
        "normal_data = list()\n",
        "abnormal_data = list()\n",
        "\n",
        "pelvic_incidence = list()\n",
        "pelvic_tilt = list()\n",
        "lumbar_lordosis_angle = list()\n",
        "sacral_slope = list()\n",
        "pelvic_radius = list()\n",
        "degree_spondylolisthesis = list()\n",
        "pelvic_slope = list()\n",
        "direct_tilt = list()\n",
        "thoracic_slope = list()\n",
        "cervical_tilt = list()\n",
        "sacrum_angle = list()\n",
        "scoliosis_slope = list()\n",
        "\n",
        "for i in range(2):\n",
        "    pelvic_incidence.append([])\n",
        "    pelvic_tilt.append([])\n",
        "    lumbar_lordosis_angle.append([])\n",
        "    sacral_slope.append([])\n",
        "    pelvic_radius.append([])\n",
        "    degree_spondylolisthesis.append([])\n",
        "    pelvic_slope.append([])\n",
        "    direct_tilt.append([])\n",
        "    thoracic_slope.append([])\n",
        "    cervical_tilt.append([])\n",
        "    sacrum_angle.append([])\n",
        "    scoliosis_slope.append([])\n",
        "\n",
        "hand = open('input/Dataset_spine.csv')\n",
        "next(hand)\n",
        "for line in hand:\n",
        "    line = line.rstrip()\n",
        "    vals = line.split(',')\n",
        "    if vals[12] == 'Normal':\n",
        "        pelvic_incidence[0].append(float(vals[0]))\n",
        "        pelvic_tilt[0].append(float(vals[1]))\n",
        "        lumbar_lordosis_angle[0].append(float(vals[2]))\n",
        "        sacral_slope[0].append(float(vals[3]))\n",
        "        pelvic_radius[0].append(float(vals[4]))\n",
        "        degree_spondylolisthesis[0].append(float(vals[5]))\n",
        "        pelvic_slope[0].append(float(vals[6]))\n",
        "        direct_tilt[0].append(float(vals[7]))\n",
        "        thoracic_slope[0].append(float(vals[8]))\n",
        "        cervical_tilt[0].append(float(vals[9]))\n",
        "        sacrum_angle[0].append(float(vals[10]))\n",
        "        scoliosis_slope[0].append(float(vals[11]))\n",
        "    else:\n",
        "        pelvic_incidence[1].append(float(vals[0]))\n",
        "        pelvic_tilt[1].append(float(vals[1]))\n",
        "        lumbar_lordosis_angle[1].append(float(vals[2]))\n",
        "        sacral_slope[1].append(float(vals[3]))\n",
        "        pelvic_radius[1].append(float(vals[4]))\n",
        "        degree_spondylolisthesis[1].append(float(vals[5]))\n",
        "        pelvic_slope[1].append(float(vals[6]))\n",
        "        direct_tilt[1].append(float(vals[7]))\n",
        "        thoracic_slope[1].append(float(vals[8]))\n",
        "        cervical_tilt[1].append(float(vals[9]))\n",
        "        sacrum_angle[1].append(float(vals[10]))\n",
        "        scoliosis_slope[1].append(float(vals[11]))"
      ]
    },
    {
      "cell_type": "code",
      "execution_count": null,
      "metadata": {
        "colab": {
          "base_uri": "https://localhost:8080/",
          "height": 609
        },
        "id": "dqg20mSGj49X",
        "outputId": "c232c544-20df-4548-9e47-b910edb4564a"
      },
      "outputs": [],
      "source": [
        "figure, axis = plt.subplots(2, 3, figsize=(15, 10))\n",
        "\n",
        "axis[0, 0].boxplot(pelvic_incidence, labels=['Normal', 'Abnormal'])\n",
        "axis[0, 0].set_title(\"Pelvic Incidence\")\n",
        "\n",
        "axis[0, 1].boxplot(pelvic_tilt, labels=['Normal', 'Abnormal'])\n",
        "axis[0, 1].set_title(\"Pelvic Tilt\")\n",
        "\n",
        "axis[0, 2].boxplot(lumbar_lordosis_angle, labels=['Normal', 'Abnormal'])\n",
        "axis[0, 2].set_title(\"Lumbar Lordosis Angle\")\n",
        "\n",
        "axis[1, 0].boxplot(sacral_slope, labels=['Normal', 'Abnormal'])\n",
        "axis[1, 0].set_title(\"Sacral Slope\")\n",
        "\n",
        "axis[1, 1].boxplot(pelvic_radius, labels=['Normal', 'Abnormal'])\n",
        "axis[1, 1].set_title(\"Pelvic Radius\")\n",
        "\n",
        "axis[1, 2].boxplot(degree_spondylolisthesis, labels=['Normal', 'Abnormal'])\n",
        "axis[1, 2].set_title(\"Degree Spondylolisthesis\")\n",
        "\n",
        "plt.show()"
      ]
    },
    {
      "cell_type": "code",
      "execution_count": null,
      "metadata": {
        "colab": {
          "base_uri": "https://localhost:8080/",
          "height": 609
        },
        "id": "Chlbcf5_j49Y",
        "outputId": "45cc6655-541a-4ad5-ecba-7ce6bab57c1c"
      },
      "outputs": [],
      "source": [
        "figure, axis = plt.subplots(2, 3, figsize=(15, 10))\n",
        "\n",
        "axis[0, 0].boxplot(pelvic_slope, labels=['Normal', 'Abnormal'])\n",
        "axis[0, 0].set_title(\"Pelvic Slope\")\n",
        "\n",
        "axis[0, 1].boxplot(direct_tilt, labels=['Normal', 'Abnormal'])\n",
        "axis[0, 1].set_title(\"Direct Tilt\")\n",
        "\n",
        "axis[0, 2].boxplot(thoracic_slope, labels=['Normal', 'Abnormal'])\n",
        "axis[0, 2].set_title(\"Thoracic Slope\")\n",
        "\n",
        "axis[1, 0].boxplot(cervical_tilt, labels=['Normal', 'Abnormal'])\n",
        "axis[1, 0].set_title(\"Cervical Tilt\")\n",
        "\n",
        "axis[1, 1].boxplot(sacrum_angle, labels=['Normal', 'Abnormal'])\n",
        "axis[1, 1].set_title(\"Sacrum Angle\")\n",
        "\n",
        "axis[1, 2].boxplot(scoliosis_slope, labels=['Normal', 'Abnormal'])\n",
        "axis[1, 2].set_title(\"Scoliosis Slope\")\n",
        "\n",
        "plt.show()"
      ]
    }
  ],
  "metadata": {
    "accelerator": "GPU",
    "colab": {
      "provenance": []
    },
    "gpuClass": "standard",
    "kernelspec": {
      "display_name": "Python 3",
      "language": "python",
      "name": "python3"
    },
    "language_info": {
      "codemirror_mode": {
        "name": "ipython",
        "version": 3
      },
      "file_extension": ".py",
      "mimetype": "text/x-python",
      "name": "python",
      "nbconvert_exporter": "python",
      "pygments_lexer": "ipython3",
      "version": "3.10.9"
    },
    "orig_nbformat": 4
  },
  "nbformat": 4,
  "nbformat_minor": 0
}

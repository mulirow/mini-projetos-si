{
  "cells": [
    {
      "cell_type": "code",
      "execution_count": null,
      "metadata": {
        "id": "71NPfBMej49O"
      },
      "outputs": [],
      "source": [
        "import numpy as np\n",
        "import pandas as pd\n",
        "import matplotlib.pyplot as plt\n",
        "from sklearn.neural_network import MLPClassifier\n",
        "from sklearn.model_selection import train_test_split\n",
        "from sklearn.metrics import accuracy_score\n",
        "from sklearn.metrics import confusion_matrix\n",
        "from sklearn.metrics import ConfusionMatrixDisplay\n",
        "\n",
        "plt.style.use('default')"
      ]
    },
    {
      "cell_type": "code",
      "execution_count": null,
      "metadata": {
        "id": "wDRInUu3j49S"
      },
      "outputs": [],
      "source": [
        "# Source data was initially adjusted to remove unnecessary comments and rename column names\n",
        "df = pd.read_csv('input/Dataset_spine.csv', sep=',')\n",
        "\n",
        "# Remove, if any, empty values from the dataset\n",
        "df = df.dropna()\n",
        "\n",
        "# Map classification attribute from string to binary\n",
        "df[\"Class_att\"] = df[\"Class_att\"].map({\"Normal\": 0, \"Abnormal\": 1})"
      ]
    },
    {
      "cell_type": "code",
      "execution_count": null,
      "metadata": {
        "id": "m0MuQ7s_j49T"
      },
      "outputs": [],
      "source": [
        "# Separate data into training and validation\n",
        "X = df.drop([\"Class_att\"], axis=1)\n",
        "y = df[\"Class_att\"]\n",
        "\n",
        "X_train, X_test, y_train, y_test = train_test_split(X, y, test_size=0.25, random_state=69)\n",
        "\n",
        "# Re-add class_att column for data handling\n",
        "df_train = X_train.assign(Class_att=y_train)\n",
        "df_test = X_test.assign(Class_att=y_test)"
      ]
    },
    {
      "cell_type": "code",
      "execution_count": null,
      "metadata": {},
      "outputs": [],
      "source": [
        "def structure_data(str):\n",
        "    \"\"\"\n",
        "    [0]    = train data\n",
        "    [0][0] = train data with normal result\n",
        "    [0][1] = train data with abnormal result\n",
        "    [1]    = test data\n",
        "    [1][0] = test data with normal result\n",
        "    [1][1] = test data with abnormal result\n",
        "    \"\"\"\n",
        "    return [[df_train.loc[df_train[\"Class_att\"] == 0, str].tolist(), \n",
        "             df_train.loc[df_train[\"Class_att\"] == 1, str].tolist()],\n",
        "            [df_test.loc[df_test[\"Class_att\"] == 0, str].tolist(), \n",
        "             df_test.loc[df_test[\"Class_att\"] == 1, str].tolist()]]"
      ]
    },
    {
      "cell_type": "code",
      "execution_count": null,
      "metadata": {},
      "outputs": [],
      "source": [
        "# Data handling for each attribute\n",
        "pelvic_incidence = structure_data('pelvic_incidence')\n",
        "pelvic_tilt = structure_data('pelvic_tilt')\n",
        "lumbar_lordosis_angle = structure_data('lumbar_lordosis_angle')\n",
        "sacral_slope = structure_data('sacral_slope')\n",
        "pelvic_radius = structure_data('pelvic_radius')\n",
        "degree_spondylolisthesis = structure_data('degree_spondylolisthesis')\n",
        "pelvic_slope = structure_data('pelvic_slope')\n",
        "direct_tilt = structure_data('direct_tilt')\n",
        "thoracic_slope = structure_data('thoracic_slope')\n",
        "cervical_tilt = structure_data('cervical_tilt')\n",
        "sacrum_angle = structure_data('sacrum_angle')\n",
        "scoliosis_slope = structure_data('scoliosis_slope')"
      ]
    },
    {
      "cell_type": "code",
      "execution_count": null,
      "metadata": {
        "id": "mV7OQc_Wj49U"
      },
      "outputs": [],
      "source": [
        "def mlp_processing(layers, lrn_rate, slvr):\n",
        "    # MLP training\n",
        "    mlp = MLPClassifier(hidden_layer_sizes=layers, activation='logistic', learning_rate=lrn_rate, solver=slvr, max_iter=10000, tol=1e-4)\n",
        "    mlp.fit(X_train, y_train)\n",
        "\n",
        "    # Scores\n",
        "    training_scores.append(mlp.score(X_train, y_train))\n",
        "    test_scores.append(mlp.score(X_test, y_test))\n",
        "    print(\"Training set score: {:.4f}\".format(mlp.score(X_train, y_train)))\n",
        "    print(\"Test set score: {:.4f}\".format(mlp.score(X_test, y_test)))\n",
        "\n",
        "    # Confusion matrix\n",
        "    y_pred = mlp.predict(X_test)\n",
        "    cm = confusion_matrix(y_test, y_pred)\n",
        "    disp = ConfusionMatrixDisplay(cm)\n",
        "    disp.plot()\n",
        "    plt.show()"
      ]
    },
    {
      "cell_type": "code",
      "execution_count": null,
      "metadata": {},
      "outputs": [],
      "source": [
        "# Reset scores before every run\n",
        "training_scores = list()\n",
        "test_scores = list()\n",
        "\n",
        "# Set of MLPs to train. Params: hidden_layer_sizes, learning_rate, solver\n",
        "mlp_processing((10), 'constant', 'adam')\n",
        "mlp_processing((10, 10, 10), 'constant', 'adam')\n",
        "mlp_processing((100, 100, 100), 'constant', 'adam')\n",
        "mlp_processing((100, 100, 100), 'constant', 'lbfgs')\n",
        "mlp_processing((100, 100, 100), 'constant', 'adam')\n",
        "mlp_processing((100, 100, 100, 100), 'constant', 'adam')"
      ]
    },
    {
      "cell_type": "code",
      "execution_count": null,
      "metadata": {},
      "outputs": [],
      "source": [
        "plt.style.use('ggplot')\n",
        "X = ['MLP 1', 'MLP 2', 'MLP 3', 'MLP 4', 'MLP 5', 'MLP 6']\n",
        "\n",
        "X_axis = np.arange(len(X))\n",
        "\n",
        "plt.bar(X_axis - 0.2, training_scores, 0.4, label=\"Training Scores\")\n",
        "plt.bar(X_axis + 0.2, test_scores, 0.4, label=\"Test Scores\")\n",
        "\n",
        "plt.xticks(X_axis, X)\n",
        "plt.xlabel(\"MLPs\")\n",
        "plt.ylabel(\"Scores\")\n",
        "plt.title(\"Training and Test Score for MLP Variations\")\n",
        "plt.legend(loc='upper right', bbox_to_anchor=(1.4, 1))\n",
        "plt.show()"
      ]
    },
    {
      "cell_type": "code",
      "execution_count": null,
      "metadata": {
        "colab": {
          "base_uri": "https://localhost:8080/",
          "height": 609
        },
        "id": "dqg20mSGj49X",
        "outputId": "c232c544-20df-4548-9e47-b910edb4564a"
      },
      "outputs": [],
      "source": [
        "figure, axis = plt.subplots(2, 3, figsize=(15, 10))\n",
        "figure.suptitle(\"Training Data\", fontsize=20)\n",
        "\n",
        "axis[0, 0].boxplot(pelvic_incidence[0], labels=['Normal', 'Abnormal'])\n",
        "axis[0, 0].set_title(\"Pelvic Incidence\")\n",
        "\n",
        "axis[0, 1].boxplot(pelvic_tilt[0], labels=['Normal', 'Abnormal'])\n",
        "axis[0, 1].set_title(\"Pelvic Tilt\")\n",
        "\n",
        "axis[0, 2].boxplot(lumbar_lordosis_angle[0], labels=['Normal', 'Abnormal'])\n",
        "axis[0, 2].set_title(\"Lumbar Lordosis Angle\")\n",
        "\n",
        "axis[1, 0].boxplot(sacral_slope[0], labels=['Normal', 'Abnormal'])\n",
        "axis[1, 0].set_title(\"Sacral Slope\")\n",
        "\n",
        "axis[1, 1].boxplot(pelvic_radius[0], labels=['Normal', 'Abnormal'])\n",
        "axis[1, 1].set_title(\"Pelvic Radius\")\n",
        "\n",
        "axis[1, 2].boxplot(degree_spondylolisthesis[0], labels=['Normal', 'Abnormal'])\n",
        "axis[1, 2].set_title(\"Degree Spondylolisthesis\")\n",
        "\n",
        "plt.show()\n",
        "\n",
        "figure, axis = plt.subplots(2, 3, figsize=(15, 10))\n",
        "\n",
        "axis[0, 0].boxplot(pelvic_slope[0], labels=['Normal', 'Abnormal'])\n",
        "axis[0, 0].set_title(\"Pelvic Slope\")\n",
        "\n",
        "axis[0, 1].boxplot(direct_tilt[0], labels=['Normal', 'Abnormal'])\n",
        "axis[0, 1].set_title(\"Direct Tilt\")\n",
        "\n",
        "axis[0, 2].boxplot(thoracic_slope[0], labels=['Normal', 'Abnormal'])\n",
        "axis[0, 2].set_title(\"Thoracic Slope\")\n",
        "\n",
        "axis[1, 0].boxplot(cervical_tilt[0], labels=['Normal', 'Abnormal'])\n",
        "axis[1, 0].set_title(\"Cervical Tilt\")\n",
        "\n",
        "axis[1, 1].boxplot(sacrum_angle[0], labels=['Normal', 'Abnormal'])\n",
        "axis[1, 1].set_title(\"Sacrum Angle\")\n",
        "\n",
        "axis[1, 2].boxplot(scoliosis_slope[0], labels=['Normal', 'Abnormal'])\n",
        "axis[1, 2].set_title(\"Scoliosis Slope\")\n",
        "\n",
        "plt.show()"
      ]
    },
    {
      "cell_type": "code",
      "execution_count": null,
      "metadata": {
        "colab": {
          "base_uri": "https://localhost:8080/",
          "height": 609
        },
        "id": "Chlbcf5_j49Y",
        "outputId": "45cc6655-541a-4ad5-ecba-7ce6bab57c1c"
      },
      "outputs": [],
      "source": [
        "figure, axis = plt.subplots(2, 3, figsize=(15, 10))\n",
        "figure.suptitle(\"Test Data\", fontsize=20)\n",
        "\n",
        "axis[0, 0].boxplot(pelvic_incidence[1], labels=['Normal', 'Abnormal'])\n",
        "axis[0, 0].set_title(\"Pelvic Incidence\")\n",
        "\n",
        "axis[0, 1].boxplot(pelvic_tilt[1], labels=['Normal', 'Abnormal'])\n",
        "axis[0, 1].set_title(\"Pelvic Tilt\")\n",
        "\n",
        "axis[0, 2].boxplot(lumbar_lordosis_angle[1], labels=['Normal', 'Abnormal'])\n",
        "axis[0, 2].set_title(\"Lumbar Lordosis Angle\")\n",
        "\n",
        "axis[1, 0].boxplot(sacral_slope[1], labels=['Normal', 'Abnormal'])\n",
        "axis[1, 0].set_title(\"Sacral Slope\")\n",
        "\n",
        "axis[1, 1].boxplot(pelvic_radius[1], labels=['Normal', 'Abnormal'])\n",
        "axis[1, 1].set_title(\"Pelvic Radius\")\n",
        "\n",
        "axis[1, 2].boxplot(degree_spondylolisthesis[1], labels=['Normal', 'Abnormal'])\n",
        "axis[1, 2].set_title(\"Degree Spondylolisthesis\")\n",
        "\n",
        "plt.show()\n",
        "\n",
        "figure, axis = plt.subplots(2, 3, figsize=(15, 10))\n",
        "\n",
        "axis[0, 0].boxplot(pelvic_slope[1], labels=['Normal', 'Abnormal'])\n",
        "axis[0, 0].set_title(\"Pelvic Slope\")\n",
        "\n",
        "axis[0, 1].boxplot(direct_tilt[1], labels=['Normal', 'Abnormal'])\n",
        "axis[0, 1].set_title(\"Direct Tilt\")\n",
        "\n",
        "axis[0, 2].boxplot(thoracic_slope[1], labels=['Normal', 'Abnormal'])\n",
        "axis[0, 2].set_title(\"Thoracic Slope\")\n",
        "\n",
        "axis[1, 0].boxplot(cervical_tilt[1], labels=['Normal', 'Abnormal'])\n",
        "axis[1, 0].set_title(\"Cervical Tilt\")\n",
        "\n",
        "axis[1, 1].boxplot(sacrum_angle[1], labels=['Normal', 'Abnormal'])\n",
        "axis[1, 1].set_title(\"Sacrum Angle\")\n",
        "\n",
        "axis[1, 2].boxplot(scoliosis_slope[1], labels=['Normal', 'Abnormal'])\n",
        "axis[1, 2].set_title(\"Scoliosis Slope\")\n",
        "\n",
        "plt.show()"
      ]
    },
    {
      "cell_type": "code",
      "execution_count": null,
      "metadata": {},
      "outputs": [],
      "source": [
        "def get_full_data(arr):\n",
        "    return [arr[0][0] + arr[1][0], arr[0][1] + arr[1][1]]\n",
        "\n",
        "figure, axis = plt.subplots(2, 3, figsize=(15, 10))\n",
        "figure.suptitle(\"Full Data\", fontsize=20)\n",
        "\n",
        "axis[0, 0].boxplot(get_full_data(pelvic_incidence), labels=['Normal', 'Abnormal'])\n",
        "axis[0, 0].set_title(\"Pelvic Incidence\")\n",
        "\n",
        "axis[0, 1].boxplot(get_full_data(pelvic_tilt), labels=['Normal', 'Abnormal'])\n",
        "axis[0, 1].set_title(\"Pelvic Tilt\")\n",
        "\n",
        "axis[0, 2].boxplot(get_full_data(lumbar_lordosis_angle), labels=['Normal', 'Abnormal'])\n",
        "axis[0, 2].set_title(\"Lumbar Lordosis Angle\")\n",
        "\n",
        "axis[1, 0].boxplot(get_full_data(sacral_slope), labels=['Normal', 'Abnormal'])\n",
        "axis[1, 0].set_title(\"Sacral Slope\")\n",
        "\n",
        "axis[1, 1].boxplot(get_full_data(pelvic_radius), labels=['Normal', 'Abnormal'])\n",
        "axis[1, 1].set_title(\"Pelvic Radius\")\n",
        "\n",
        "axis[1, 2].boxplot(get_full_data(degree_spondylolisthesis), labels=['Normal', 'Abnormal'])\n",
        "axis[1, 2].set_title(\"Degree Spondylolisthesis\")\n",
        "\n",
        "plt.show()\n",
        "\n",
        "figure, axis = plt.subplots(2, 3, figsize=(15, 10))\n",
        "\n",
        "axis[0, 0].boxplot(get_full_data(pelvic_slope), labels=['Normal', 'Abnormal'])\n",
        "axis[0, 0].set_title(\"Pelvic Slope\")\n",
        "\n",
        "axis[0, 1].boxplot(get_full_data(direct_tilt), labels=['Normal', 'Abnormal'])\n",
        "axis[0, 1].set_title(\"Direct Tilt\")\n",
        "\n",
        "axis[0, 2].boxplot(get_full_data(thoracic_slope), labels=['Normal', 'Abnormal'])\n",
        "axis[0, 2].set_title(\"Thoracic Slope\")\n",
        "\n",
        "axis[1, 0].boxplot(get_full_data(cervical_tilt), labels=['Normal', 'Abnormal'])\n",
        "axis[1, 0].set_title(\"Cervical Tilt\")\n",
        "\n",
        "axis[1, 1].boxplot(get_full_data(sacrum_angle), labels=['Normal', 'Abnormal'])\n",
        "axis[1, 1].set_title(\"Sacrum Angle\")\n",
        "\n",
        "axis[1, 2].boxplot(get_full_data(scoliosis_slope), labels=['Normal', 'Abnormal'])\n",
        "axis[1, 2].set_title(\"Scoliosis Slope\")\n",
        "\n",
        "plt.show()"
      ]
    }
  ],
  "metadata": {
    "accelerator": "GPU",
    "colab": {
      "provenance": []
    },
    "gpuClass": "standard",
    "kernelspec": {
      "display_name": "Python 3",
      "language": "python",
      "name": "python3"
    },
    "language_info": {
      "codemirror_mode": {
        "name": "ipython",
        "version": 3
      },
      "file_extension": ".py",
      "mimetype": "text/x-python",
      "name": "python",
      "nbconvert_exporter": "python",
      "pygments_lexer": "ipython3",
      "version": "3.10.9"
    },
    "orig_nbformat": 4
  },
  "nbformat": 4,
  "nbformat_minor": 0
}

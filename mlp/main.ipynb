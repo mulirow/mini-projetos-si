{
 "cells": [
  {
   "cell_type": "code",
   "execution_count": 780,
   "metadata": {},
   "outputs": [],
   "source": [
    "import numpy as np\n",
    "import pandas as pd\n",
    "import matplotlib.pyplot as plt\n",
    "from sklearn.neural_network import MLPClassifier\n",
    "from sklearn.model_selection import train_test_split\n",
    "from sklearn.metrics import accuracy_score\n",
    "from sklearn.metrics import confusion_matrix\n",
    "from sklearn.metrics import ConfusionMatrixDisplay"
   ]
  },
  {
   "cell_type": "code",
   "execution_count": 781,
   "metadata": {},
   "outputs": [],
   "source": [
    "# Source data was initially adjusted to remove unnecessary comments and rename column names\n",
    "df = pd.read_csv('input/Dataset_spine.csv', sep=',')\n",
    "\n",
    "# Remove, if any, empty values from the dataset\n",
    "df = df.dropna()\n",
    "\n",
    "# Map classification attribute from string to binary\n",
    "df[\"Class_att\"] = df[\"Class_att\"].map({\"Normal\": 0, \"Abnormal\": 1})"
   ]
  },
  {
   "cell_type": "code",
   "execution_count": 782,
   "metadata": {},
   "outputs": [],
   "source": [
    "# Separate data into training and validation\n",
    "X = df.drop([\"Class_att\"], axis=1)\n",
    "y = df[\"Class_att\"]\n",
    "\n",
    "X_train, X_test, y_train, y_test = train_test_split(X, y, test_size=0.25, random_state=69)"
   ]
  },
  {
   "cell_type": "code",
   "execution_count": 783,
   "metadata": {},
   "outputs": [],
   "source": [
    "# MLP training\n",
    "mlp = MLPClassifier(hidden_layer_sizes=(10,), activation='logistic', learning_rate='constant', solver='adam', max_iter=10000, tol=1e-4)"
   ]
  },
  {
   "cell_type": "code",
   "execution_count": 784,
   "metadata": {},
   "outputs": [
    {
     "name": "stdout",
     "output_type": "stream",
     "text": [
      "Training set score: 0.8793\n",
      "Test set score: 0.7821\n"
     ]
    }
   ],
   "source": [
    "mlp.fit(X_train, y_train)\n",
    "\n",
    "print(\"Training set score: {:.4f}\".format(mlp.score(X_train, y_train)))\n",
    "print(\"Test set score: {:.4f}\".format(mlp.score(X_test, y_test)))"
   ]
  },
  {
   "cell_type": "code",
   "execution_count": 785,
   "metadata": {},
   "outputs": [
    {
     "data": {
      "image/png": "[encoded data removed]",
      "text/plain": [
       "<Figure size 432x288 with 2 Axes>"
      ]
     },
     "metadata": {
      "needs_background": "light"
     },
     "output_type": "display_data"
    }
   ],
   "source": [
    "# Confusion matrix\n",
    "y_pred = mlp.predict(X_test)\n",
    "cm = confusion_matrix(y_test, y_pred)\n",
    "disp = ConfusionMatrixDisplay(cm)\n",
    "disp.plot()\n",
    "plt.show()"
   ]
  }
 ],
 "metadata": {
  "kernelspec": {
   "display_name": "Python 3",
   "language": "python",
   "name": "python3"
  },
  "language_info": {
   "name": "python",
   "version": "3.10.9"
  },
  "orig_nbformat": 4
 },
 "nbformat": 4,
 "nbformat_minor": 2
}

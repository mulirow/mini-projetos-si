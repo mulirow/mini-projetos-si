{
  "cells": [
    {
      "cell_type": "code",
      "execution_count": null,
      "metadata": {
        "id": "71NPfBMej49O"
      },
      "outputs": [],
      "source": [
        "import numpy as np\n",
        "import pandas as pd\n",
        "import matplotlib.pyplot as plt\n",
        "from sklearn.neural_network import MLPClassifier\n",
        "from sklearn.model_selection import train_test_split\n",
        "from sklearn.metrics import accuracy_score\n",
        "from sklearn.metrics import confusion_matrix\n",
        "from sklearn.metrics import ConfusionMatrixDisplay\n",
        "\n",
        "plt.style.use('default')"
      ]
    },
    {
      "cell_type": "code",
      "execution_count": null,
      "metadata": {
        "id": "wDRInUu3j49S"
      },
      "outputs": [],
      "source": [
        "# Source data was initially adjusted to remove unnecessary comments and rename column names\n",
        "df = pd.read_csv('input/Dataset_spine.csv', sep=',')\n",
        "\n",
        "# Remove, if any, empty values from the dataset\n",
        "df = df.dropna()\n",
        "\n",
        "# Map classification attribute from string to binary\n",
        "df[\"Class_att\"] = df[\"Class_att\"].map({\"Normal\": 0, \"Abnormal\": 1})"
      ]
    },
    {
      "cell_type": "code",
      "execution_count": null,
      "metadata": {
        "id": "m0MuQ7s_j49T"
      },
      "outputs": [],
      "source": [
        "# Separate data into training and validation\n",
        "X = df.drop([\"Class_att\"], axis=1)\n",
        "y = df[\"Class_att\"]\n",
        "\n",
        "X_train, X_test, y_train, y_test = train_test_split(X, y, test_size=0.25, random_state=69)\n",
        "\n",
        "training_scores = list()\n",
        "test_scores = list()"
      ]
    },
    {
      "cell_type": "code",
      "execution_count": null,
      "metadata": {
        "id": "mV7OQc_Wj49U"
      },
      "outputs": [],
      "source": [
        "# MLP training\n",
        "def mlp_processing(layers, lrn_rate, slvr):\n",
        "    mlp = MLPClassifier(hidden_layer_sizes=layers, activation='logistic', learning_rate=lrn_rate, solver=slvr, max_iter=10000, tol=1e-4)\n",
        "    mlp.fit(X_train, y_train)\n",
        "\n",
        "    training_scores.append(mlp.score(X_train, y_train))\n",
        "    test_scores.append(mlp.score(X_test, y_test))\n",
        "    print(\"Training set score: {:.4f}\".format(mlp.score(X_train, y_train)))\n",
        "    print(\"Test set score: {:.4f}\".format(mlp.score(X_test, y_test)))\n",
        "\n",
        "    # Confusion matrix\n",
        "    y_pred = mlp.predict(X_test)\n",
        "    cm = confusion_matrix(y_test, y_pred)\n",
        "    disp = ConfusionMatrixDisplay(cm)\n",
        "    disp.plot()\n",
        "    plt.show()"
      ]
    },
    {
      "cell_type": "code",
      "execution_count": null,
      "metadata": {},
      "outputs": [],
      "source": [
        "mlp_processing((10), 'constant', 'adam')\n",
        "mlp_processing((10, 10, 10), 'constant', 'adam')\n",
        "mlp_processing((100, 100, 100), 'constant', 'adam')\n",
        "mlp_processing((100, 100, 100), 'constant', 'lbfgs')\n",
        "mlp_processing((100, 100, 100), 'constant', 'adam')\n",
        "mlp_processing((100, 100, 100, 100), 'constant', 'adam')"
      ]
    },
    {
      "cell_type": "code",
      "execution_count": null,
      "metadata": {},
      "outputs": [],
      "source": [
        "plt.style.use('ggplot')\n",
        "X = ['MLP 1', 'MLP 2', 'MLP 3', 'MLP 4', 'MLP 5', 'MLP 6']\n",
        "\n",
        "X_axis = np.arange(len(X))\n",
        "\n",
        "plt.bar(X_axis - 0.2, training_scores, 0.4, label=\"Training Scores\")\n",
        "plt.bar(X_axis + 0.2, test_scores, 0.4, label=\"Test Scores\")\n",
        "\n",
        "plt.xticks(X_axis, X)\n",
        "plt.xlabel(\"MLPs\")\n",
        "plt.ylabel(\"Scores\")\n",
        "plt.title(\"Training and Test Score for MLP Variations\")\n",
        "plt.legend(loc='upper right', bbox_to_anchor=(1.4, 1))\n",
        "plt.show()"
      ]
    },
    {
      "cell_type": "code",
      "execution_count": null,
      "metadata": {
        "id": "UGJkRizJj49V"
      },
      "outputs": [],
      "source": [
        "normal_data = list()\n",
        "abnormal_data = list()\n",
        "\n",
        "pelvic_incidence = list()\n",
        "pelvic_tilt = list()\n",
        "lumbar_lordosis_angle = list()\n",
        "sacral_slope = list()\n",
        "pelvic_radius = list()\n",
        "degree_spondylolisthesis = list()\n",
        "pelvic_slope = list()\n",
        "direct_tilt = list()\n",
        "thoracic_slope = list()\n",
        "cervical_tilt = list()\n",
        "sacrum_angle = list()\n",
        "scoliosis_slope = list()\n",
        "\n",
        "for i in range(2):\n",
        "    pelvic_incidence.append([])\n",
        "    pelvic_tilt.append([])\n",
        "    lumbar_lordosis_angle.append([])\n",
        "    sacral_slope.append([])\n",
        "    pelvic_radius.append([])\n",
        "    degree_spondylolisthesis.append([])\n",
        "    pelvic_slope.append([])\n",
        "    direct_tilt.append([])\n",
        "    thoracic_slope.append([])\n",
        "    cervical_tilt.append([])\n",
        "    sacrum_angle.append([])\n",
        "    scoliosis_slope.append([])\n",
        "\n",
        "hand = open('input/Dataset_spine.csv')\n",
        "next(hand)\n",
        "for line in hand:\n",
        "    line = line.rstrip()\n",
        "    vals = line.split(',')\n",
        "    if vals[12] == 'Normal':\n",
        "        pelvic_incidence[0].append(float(vals[0]))\n",
        "        pelvic_tilt[0].append(float(vals[1]))\n",
        "        lumbar_lordosis_angle[0].append(float(vals[2]))\n",
        "        sacral_slope[0].append(float(vals[3]))\n",
        "        pelvic_radius[0].append(float(vals[4]))\n",
        "        degree_spondylolisthesis[0].append(float(vals[5]))\n",
        "        pelvic_slope[0].append(float(vals[6]))\n",
        "        direct_tilt[0].append(float(vals[7]))\n",
        "        thoracic_slope[0].append(float(vals[8]))\n",
        "        cervical_tilt[0].append(float(vals[9]))\n",
        "        sacrum_angle[0].append(float(vals[10]))\n",
        "        scoliosis_slope[0].append(float(vals[11]))\n",
        "    else:\n",
        "        pelvic_incidence[1].append(float(vals[0]))\n",
        "        pelvic_tilt[1].append(float(vals[1]))\n",
        "        lumbar_lordosis_angle[1].append(float(vals[2]))\n",
        "        sacral_slope[1].append(float(vals[3]))\n",
        "        pelvic_radius[1].append(float(vals[4]))\n",
        "        degree_spondylolisthesis[1].append(float(vals[5]))\n",
        "        pelvic_slope[1].append(float(vals[6]))\n",
        "        direct_tilt[1].append(float(vals[7]))\n",
        "        thoracic_slope[1].append(float(vals[8]))\n",
        "        cervical_tilt[1].append(float(vals[9]))\n",
        "        sacrum_angle[1].append(float(vals[10]))\n",
        "        scoliosis_slope[1].append(float(vals[11]))"
      ]
    },
    {
      "cell_type": "code",
      "execution_count": null,
      "metadata": {
        "colab": {
          "base_uri": "https://localhost:8080/",
          "height": 609
        },
        "id": "dqg20mSGj49X",
        "outputId": "c232c544-20df-4548-9e47-b910edb4564a"
      },
      "outputs": [],
      "source": [
        "figure, axis = plt.subplots(2, 3, figsize=(15, 10))\n",
        "\n",
        "axis[0, 0].boxplot(pelvic_incidence, labels=['Normal', 'Abnormal'])\n",
        "axis[0, 0].set_title(\"Pelvic Incidence\")\n",
        "\n",
        "axis[0, 1].boxplot(pelvic_tilt, labels=['Normal', 'Abnormal'])\n",
        "axis[0, 1].set_title(\"Pelvic Tilt\")\n",
        "\n",
        "axis[0, 2].boxplot(lumbar_lordosis_angle, labels=['Normal', 'Abnormal'])\n",
        "axis[0, 2].set_title(\"Lumbar Lordosis Angle\")\n",
        "\n",
        "axis[1, 0].boxplot(sacral_slope, labels=['Normal', 'Abnormal'])\n",
        "axis[1, 0].set_title(\"Sacral Slope\")\n",
        "\n",
        "axis[1, 1].boxplot(pelvic_radius, labels=['Normal', 'Abnormal'])\n",
        "axis[1, 1].set_title(\"Pelvic Radius\")\n",
        "\n",
        "axis[1, 2].boxplot(degree_spondylolisthesis, labels=['Normal', 'Abnormal'])\n",
        "axis[1, 2].set_title(\"Degree Spondylolisthesis\")\n",
        "\n",
        "plt.show()"
      ]
    },
    {
      "cell_type": "code",
      "execution_count": null,
      "metadata": {
        "colab": {
          "base_uri": "https://localhost:8080/",
          "height": 609
        },
        "id": "Chlbcf5_j49Y",
        "outputId": "45cc6655-541a-4ad5-ecba-7ce6bab57c1c"
      },
      "outputs": [],
      "source": [
        "figure, axis = plt.subplots(2, 3, figsize=(15, 10))\n",
        "\n",
        "axis[0, 0].boxplot(pelvic_slope, labels=['Normal', 'Abnormal'])\n",
        "axis[0, 0].set_title(\"Pelvic Slope\")\n",
        "\n",
        "axis[0, 1].boxplot(direct_tilt, labels=['Normal', 'Abnormal'])\n",
        "axis[0, 1].set_title(\"Direct Tilt\")\n",
        "\n",
        "axis[0, 2].boxplot(thoracic_slope, labels=['Normal', 'Abnormal'])\n",
        "axis[0, 2].set_title(\"Thoracic Slope\")\n",
        "\n",
        "axis[1, 0].boxplot(cervical_tilt, labels=['Normal', 'Abnormal'])\n",
        "axis[1, 0].set_title(\"Cervical Tilt\")\n",
        "\n",
        "axis[1, 1].boxplot(sacrum_angle, labels=['Normal', 'Abnormal'])\n",
        "axis[1, 1].set_title(\"Sacrum Angle\")\n",
        "\n",
        "axis[1, 2].boxplot(scoliosis_slope, labels=['Normal', 'Abnormal'])\n",
        "axis[1, 2].set_title(\"Scoliosis Slope\")\n",
        "\n",
        "plt.show()"
      ]
    }
  ],
  "metadata": {
    "accelerator": "GPU",
    "colab": {
      "provenance": []
    },
    "gpuClass": "standard",
    "kernelspec": {
      "display_name": "Python 3",
      "language": "python",
      "name": "python3"
    },
    "language_info": {
      "codemirror_mode": {
        "name": "ipython",
        "version": 3
      },
      "file_extension": ".py",
      "mimetype": "text/x-python",
      "name": "python",
      "nbconvert_exporter": "python",
      "pygments_lexer": "ipython3",
      "version": "3.10.9"
    },
    "orig_nbformat": 4
  },
  "nbformat": 4,
  "nbformat_minor": 0
}
